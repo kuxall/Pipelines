{
  "nbformat": 4,
  "nbformat_minor": 0,
  "metadata": {
    "colab": {
      "name": "pipelines.ipynb",
      "provenance": [],
      "collapsed_sections": []
    },
    "kernelspec": {
      "name": "python3",
      "display_name": "Python 3"
    },
    "language_info": {
      "name": "python"
    }
  },
  "cells": [
    {
      "cell_type": "markdown",
      "source": [
        "# **Understanding the PipeLines **"
      ],
      "metadata": {
        "id": "1AYQE1gM4pa1"
      }
    },
    {
      "cell_type": "code",
      "execution_count": 1,
      "metadata": {
        "id": "8KRz6i734k50"
      },
      "outputs": [],
      "source": [
        "from sklearn.pipeline import Pipeline\n",
        "from sklearn.preprocessing import StandardScaler\n",
        "from sklearn.decomposition import PCA\n",
        "\n",
        "from sklearn.ensemble import RandomForestClassifier, AdaBoostClassifier\n",
        "from sklearn.linear_model import LogisticRegression\n",
        "from sklearn.tree import DecisionTreeClassifier\n",
        "from sklearn.gaussian_process import GaussianProcessClassifier\n",
        "from sklearn.neural_network import MLPClassifier\n",
        "from sklearn.neighbors import KNeighborsClassifier\n",
        "from sklearn.svm import SVC\n",
        "from sklearn.discriminant_analysis import QuadraticDiscriminantAnalysis\n",
        "\n",
        "from sklearn.gaussian_process.kernels import RBF\n",
        "from sklearn.naive_bayes import GaussianNB\n",
        "\n",
        "from sklearn.datasets import load_iris\n",
        "from sklearn.model_selection import train_test_split"
      ]
    },
    {
      "cell_type": "code",
      "source": [
        "iris_df = load_iris()"
      ],
      "metadata": {
        "id": "QMqA7dQX40eM"
      },
      "execution_count": 2,
      "outputs": []
    },
    {
      "cell_type": "code",
      "source": [
        "iris_df.data"
      ],
      "metadata": {
        "colab": {
          "base_uri": "https://localhost:8080/"
        },
        "id": "SWB0fi-Z5x4J",
        "outputId": "e52cb394-5d07-4cae-b306-58759afd2769"
      },
      "execution_count": 3,
      "outputs": [
        {
          "output_type": "execute_result",
          "data": {
            "text/plain": [
              "array([[5.1, 3.5, 1.4, 0.2],\n",
              "       [4.9, 3. , 1.4, 0.2],\n",
              "       [4.7, 3.2, 1.3, 0.2],\n",
              "       [4.6, 3.1, 1.5, 0.2],\n",
              "       [5. , 3.6, 1.4, 0.2],\n",
              "       [5.4, 3.9, 1.7, 0.4],\n",
              "       [4.6, 3.4, 1.4, 0.3],\n",
              "       [5. , 3.4, 1.5, 0.2],\n",
              "       [4.4, 2.9, 1.4, 0.2],\n",
              "       [4.9, 3.1, 1.5, 0.1],\n",
              "       [5.4, 3.7, 1.5, 0.2],\n",
              "       [4.8, 3.4, 1.6, 0.2],\n",
              "       [4.8, 3. , 1.4, 0.1],\n",
              "       [4.3, 3. , 1.1, 0.1],\n",
              "       [5.8, 4. , 1.2, 0.2],\n",
              "       [5.7, 4.4, 1.5, 0.4],\n",
              "       [5.4, 3.9, 1.3, 0.4],\n",
              "       [5.1, 3.5, 1.4, 0.3],\n",
              "       [5.7, 3.8, 1.7, 0.3],\n",
              "       [5.1, 3.8, 1.5, 0.3],\n",
              "       [5.4, 3.4, 1.7, 0.2],\n",
              "       [5.1, 3.7, 1.5, 0.4],\n",
              "       [4.6, 3.6, 1. , 0.2],\n",
              "       [5.1, 3.3, 1.7, 0.5],\n",
              "       [4.8, 3.4, 1.9, 0.2],\n",
              "       [5. , 3. , 1.6, 0.2],\n",
              "       [5. , 3.4, 1.6, 0.4],\n",
              "       [5.2, 3.5, 1.5, 0.2],\n",
              "       [5.2, 3.4, 1.4, 0.2],\n",
              "       [4.7, 3.2, 1.6, 0.2],\n",
              "       [4.8, 3.1, 1.6, 0.2],\n",
              "       [5.4, 3.4, 1.5, 0.4],\n",
              "       [5.2, 4.1, 1.5, 0.1],\n",
              "       [5.5, 4.2, 1.4, 0.2],\n",
              "       [4.9, 3.1, 1.5, 0.2],\n",
              "       [5. , 3.2, 1.2, 0.2],\n",
              "       [5.5, 3.5, 1.3, 0.2],\n",
              "       [4.9, 3.6, 1.4, 0.1],\n",
              "       [4.4, 3. , 1.3, 0.2],\n",
              "       [5.1, 3.4, 1.5, 0.2],\n",
              "       [5. , 3.5, 1.3, 0.3],\n",
              "       [4.5, 2.3, 1.3, 0.3],\n",
              "       [4.4, 3.2, 1.3, 0.2],\n",
              "       [5. , 3.5, 1.6, 0.6],\n",
              "       [5.1, 3.8, 1.9, 0.4],\n",
              "       [4.8, 3. , 1.4, 0.3],\n",
              "       [5.1, 3.8, 1.6, 0.2],\n",
              "       [4.6, 3.2, 1.4, 0.2],\n",
              "       [5.3, 3.7, 1.5, 0.2],\n",
              "       [5. , 3.3, 1.4, 0.2],\n",
              "       [7. , 3.2, 4.7, 1.4],\n",
              "       [6.4, 3.2, 4.5, 1.5],\n",
              "       [6.9, 3.1, 4.9, 1.5],\n",
              "       [5.5, 2.3, 4. , 1.3],\n",
              "       [6.5, 2.8, 4.6, 1.5],\n",
              "       [5.7, 2.8, 4.5, 1.3],\n",
              "       [6.3, 3.3, 4.7, 1.6],\n",
              "       [4.9, 2.4, 3.3, 1. ],\n",
              "       [6.6, 2.9, 4.6, 1.3],\n",
              "       [5.2, 2.7, 3.9, 1.4],\n",
              "       [5. , 2. , 3.5, 1. ],\n",
              "       [5.9, 3. , 4.2, 1.5],\n",
              "       [6. , 2.2, 4. , 1. ],\n",
              "       [6.1, 2.9, 4.7, 1.4],\n",
              "       [5.6, 2.9, 3.6, 1.3],\n",
              "       [6.7, 3.1, 4.4, 1.4],\n",
              "       [5.6, 3. , 4.5, 1.5],\n",
              "       [5.8, 2.7, 4.1, 1. ],\n",
              "       [6.2, 2.2, 4.5, 1.5],\n",
              "       [5.6, 2.5, 3.9, 1.1],\n",
              "       [5.9, 3.2, 4.8, 1.8],\n",
              "       [6.1, 2.8, 4. , 1.3],\n",
              "       [6.3, 2.5, 4.9, 1.5],\n",
              "       [6.1, 2.8, 4.7, 1.2],\n",
              "       [6.4, 2.9, 4.3, 1.3],\n",
              "       [6.6, 3. , 4.4, 1.4],\n",
              "       [6.8, 2.8, 4.8, 1.4],\n",
              "       [6.7, 3. , 5. , 1.7],\n",
              "       [6. , 2.9, 4.5, 1.5],\n",
              "       [5.7, 2.6, 3.5, 1. ],\n",
              "       [5.5, 2.4, 3.8, 1.1],\n",
              "       [5.5, 2.4, 3.7, 1. ],\n",
              "       [5.8, 2.7, 3.9, 1.2],\n",
              "       [6. , 2.7, 5.1, 1.6],\n",
              "       [5.4, 3. , 4.5, 1.5],\n",
              "       [6. , 3.4, 4.5, 1.6],\n",
              "       [6.7, 3.1, 4.7, 1.5],\n",
              "       [6.3, 2.3, 4.4, 1.3],\n",
              "       [5.6, 3. , 4.1, 1.3],\n",
              "       [5.5, 2.5, 4. , 1.3],\n",
              "       [5.5, 2.6, 4.4, 1.2],\n",
              "       [6.1, 3. , 4.6, 1.4],\n",
              "       [5.8, 2.6, 4. , 1.2],\n",
              "       [5. , 2.3, 3.3, 1. ],\n",
              "       [5.6, 2.7, 4.2, 1.3],\n",
              "       [5.7, 3. , 4.2, 1.2],\n",
              "       [5.7, 2.9, 4.2, 1.3],\n",
              "       [6.2, 2.9, 4.3, 1.3],\n",
              "       [5.1, 2.5, 3. , 1.1],\n",
              "       [5.7, 2.8, 4.1, 1.3],\n",
              "       [6.3, 3.3, 6. , 2.5],\n",
              "       [5.8, 2.7, 5.1, 1.9],\n",
              "       [7.1, 3. , 5.9, 2.1],\n",
              "       [6.3, 2.9, 5.6, 1.8],\n",
              "       [6.5, 3. , 5.8, 2.2],\n",
              "       [7.6, 3. , 6.6, 2.1],\n",
              "       [4.9, 2.5, 4.5, 1.7],\n",
              "       [7.3, 2.9, 6.3, 1.8],\n",
              "       [6.7, 2.5, 5.8, 1.8],\n",
              "       [7.2, 3.6, 6.1, 2.5],\n",
              "       [6.5, 3.2, 5.1, 2. ],\n",
              "       [6.4, 2.7, 5.3, 1.9],\n",
              "       [6.8, 3. , 5.5, 2.1],\n",
              "       [5.7, 2.5, 5. , 2. ],\n",
              "       [5.8, 2.8, 5.1, 2.4],\n",
              "       [6.4, 3.2, 5.3, 2.3],\n",
              "       [6.5, 3. , 5.5, 1.8],\n",
              "       [7.7, 3.8, 6.7, 2.2],\n",
              "       [7.7, 2.6, 6.9, 2.3],\n",
              "       [6. , 2.2, 5. , 1.5],\n",
              "       [6.9, 3.2, 5.7, 2.3],\n",
              "       [5.6, 2.8, 4.9, 2. ],\n",
              "       [7.7, 2.8, 6.7, 2. ],\n",
              "       [6.3, 2.7, 4.9, 1.8],\n",
              "       [6.7, 3.3, 5.7, 2.1],\n",
              "       [7.2, 3.2, 6. , 1.8],\n",
              "       [6.2, 2.8, 4.8, 1.8],\n",
              "       [6.1, 3. , 4.9, 1.8],\n",
              "       [6.4, 2.8, 5.6, 2.1],\n",
              "       [7.2, 3. , 5.8, 1.6],\n",
              "       [7.4, 2.8, 6.1, 1.9],\n",
              "       [7.9, 3.8, 6.4, 2. ],\n",
              "       [6.4, 2.8, 5.6, 2.2],\n",
              "       [6.3, 2.8, 5.1, 1.5],\n",
              "       [6.1, 2.6, 5.6, 1.4],\n",
              "       [7.7, 3. , 6.1, 2.3],\n",
              "       [6.3, 3.4, 5.6, 2.4],\n",
              "       [6.4, 3.1, 5.5, 1.8],\n",
              "       [6. , 3. , 4.8, 1.8],\n",
              "       [6.9, 3.1, 5.4, 2.1],\n",
              "       [6.7, 3.1, 5.6, 2.4],\n",
              "       [6.9, 3.1, 5.1, 2.3],\n",
              "       [5.8, 2.7, 5.1, 1.9],\n",
              "       [6.8, 3.2, 5.9, 2.3],\n",
              "       [6.7, 3.3, 5.7, 2.5],\n",
              "       [6.7, 3. , 5.2, 2.3],\n",
              "       [6.3, 2.5, 5. , 1.9],\n",
              "       [6.5, 3. , 5.2, 2. ],\n",
              "       [6.2, 3.4, 5.4, 2.3],\n",
              "       [5.9, 3. , 5.1, 1.8]])"
            ]
          },
          "metadata": {},
          "execution_count": 3
        }
      ]
    },
    {
      "cell_type": "code",
      "source": [
        "x_train, x_test, y_train, y_test = train_test_split(iris_df.data, iris_df.target, test_size = 0.3, random_state = 0 )"
      ],
      "metadata": {
        "id": "koXaVbN85z-6"
      },
      "execution_count": 4,
      "outputs": []
    },
    {
      "cell_type": "code",
      "source": [
        "len(x_train), len(x_test), len(y_train), len(y_test)"
      ],
      "metadata": {
        "colab": {
          "base_uri": "https://localhost:8080/"
        },
        "id": "8a2TMQsb6OmD",
        "outputId": "fd940439-582f-49da-82bb-75382948dc97"
      },
      "execution_count": 5,
      "outputs": [
        {
          "output_type": "execute_result",
          "data": {
            "text/plain": [
              "(105, 45, 105, 45)"
            ]
          },
          "metadata": {},
          "execution_count": 5
        }
      ]
    },
    {
      "cell_type": "markdown",
      "source": [
        "Pipelines depends on 2 basis\n",
        "1. Preprocessing\n",
        "2. Fit"
      ],
      "metadata": {
        "id": "NVq9xj246o-7"
      }
    },
    {
      "cell_type": "code",
      "source": [
        "\"\"\" Pipeline on the Logistic Regression \"\"\"\n",
        "pipeline_lr = Pipeline([('firstScaler', StandardScaler()),\n",
        "                        ('firstPCA', PCA(n_components = 2)),\n",
        "                        ('lr_classifier', LogisticRegression(random_state = 0))])"
      ],
      "metadata": {
        "id": "ha8_klKf6X4I"
      },
      "execution_count": 6,
      "outputs": []
    },
    {
      "cell_type": "code",
      "source": [
        "\"\"\" Pipeline on the Decision Tree \"\"\"\n",
        "pipeline_dt = Pipeline([('secondScaler', StandardScaler()),\n",
        "                        ('secondPCA', PCA(n_components = 2)),\n",
        "                        ('dt_classifier', DecisionTreeClassifier())])"
      ],
      "metadata": {
        "id": "sww2DuUc8nhL"
      },
      "execution_count": 7,
      "outputs": []
    },
    {
      "cell_type": "code",
      "source": [
        "\"\"\" Pipeline on the Random Forest \"\"\"\n",
        "pipeline_rf = Pipeline([('thirdScaler', StandardScaler()),\n",
        "                        ('thirdPCA', PCA(n_components = 2)),\n",
        "                        ('rf_classifier', RandomForestClassifier())])"
      ],
      "metadata": {
        "id": "Mlzd-aZZ8747"
      },
      "execution_count": 8,
      "outputs": []
    },
    {
      "cell_type": "code",
      "source": [
        "\"\"\" Pipeline on the MLP Classifier \"\"\"\n",
        "pipeline_mlp = Pipeline([('forthScaler', StandardScaler()),\n",
        "                        ('forthPCA', PCA(n_components = 2)),\n",
        "                        ('mlp_classifier', MLPClassifier(alpha=1, max_iter=1000))])"
      ],
      "metadata": {
        "id": "synrRqKUFMvE"
      },
      "execution_count": 9,
      "outputs": []
    },
    {
      "cell_type": "code",
      "source": [
        "\"\"\" Pipeline on the K-Nearest Neighbours \"\"\"\n",
        "pipeline_knn = Pipeline([('fifthScaler', StandardScaler()),\n",
        "                        ('fifthPCA', PCA(n_components = 2)),\n",
        "                        ('knn_classifier', KNeighborsClassifier(3))])"
      ],
      "metadata": {
        "id": "r9miWd3ZFud8"
      },
      "execution_count": 10,
      "outputs": []
    },
    {
      "cell_type": "code",
      "source": [
        "\"\"\" Pipeline on the Linear SVM \"\"\"\n",
        "pipeline_lsvm = Pipeline([('sixthScaler', StandardScaler()),\n",
        "                        ('sixthPCA', PCA(n_components = 2)),\n",
        "                        ('lsvm_classifier', SVC(kernel=\"linear\", C=0.025))])"
      ],
      "metadata": {
        "id": "GqHGghRsGHBk"
      },
      "execution_count": 11,
      "outputs": []
    },
    {
      "cell_type": "code",
      "source": [
        "\"\"\" Pipeline on the Gaussian Process Classifier \"\"\"\n",
        "pipeline_gaussianprocess = Pipeline([('seventhScaler', StandardScaler()),\n",
        "                        ('seventhPCA', PCA(n_components = 2)),\n",
        "                        ('gaussianprocess_classifier', GaussianProcessClassifier(1.0 * RBF(1.0)))])"
      ],
      "metadata": {
        "id": "zqpeToK0Gi67"
      },
      "execution_count": 12,
      "outputs": []
    },
    {
      "cell_type": "code",
      "source": [
        "\"\"\" Pipeline on the ADA \"\"\"\n",
        "pipeline_ada = Pipeline([('eighthScaler', StandardScaler()),\n",
        "                        ('eighthPCA', PCA(n_components = 2)),\n",
        "                        ('ada_classifier', AdaBoostClassifier())])"
      ],
      "metadata": {
        "id": "9rtKn10yHGEy"
      },
      "execution_count": 13,
      "outputs": []
    },
    {
      "cell_type": "code",
      "source": [
        "\"\"\" Pipeline on the Naive Bayes Gaussian\"\"\"\n",
        "pipeline_gaussianNB = Pipeline([('ninthScaler', StandardScaler()),\n",
        "                        ('ninthPCA', PCA(n_components = 2)),\n",
        "                        ('gaussianNB_classifier', GaussianNB())])"
      ],
      "metadata": {
        "id": "3Stnm4eQHlae"
      },
      "execution_count": 14,
      "outputs": []
    },
    {
      "cell_type": "code",
      "source": [
        "\"\"\" Pipeline on the Decision Tree \"\"\"\n",
        "pipeline_QDA = Pipeline([('tenthScaler', StandardScaler()),\n",
        "                        ('tenthPCA', PCA(n_components = 2)),\n",
        "                        ('QDA_classifier', QuadraticDiscriminantAnalysis())])"
      ],
      "metadata": {
        "id": "n9tT38bZH2Fw"
      },
      "execution_count": 15,
      "outputs": []
    },
    {
      "cell_type": "code",
      "source": [
        "#now making list of pipelines for classifiers\n",
        "pipelines = [pipeline_lr, pipeline_dt, pipeline_rf, pipeline_mlp, pipeline_QDA, pipeline_gaussianprocess, pipeline_ada, pipeline_gaussianNB\n",
        "             , pipeline_knn, pipeline_lsvm]"
      ],
      "metadata": {
        "id": "Lnj99hyh9KS5"
      },
      "execution_count": 16,
      "outputs": []
    },
    {
      "cell_type": "code",
      "source": [
        "# lets try to find the best classifier , pipeline from their accuracy\n",
        "best_pipeline = 0\n",
        "best_classifier = 0\n",
        "best_accuracy = 0.0"
      ],
      "metadata": {
        "id": "9Oe6s-p79Yqf"
      },
      "execution_count": 17,
      "outputs": []
    },
    {
      "cell_type": "code",
      "source": [
        "pipe_dict = { 0 : 'Logistic Regression', 1 : 'Decision Tree', 2 : 'Random Forest', 3 : 'MLP Classifier', 4 : 'KNeighbours Classifier', 5 : 'Linear SVM', 6 : 'Gaussian Process Classifier', 7 : 'ADA', 8 : 'Naive Bayes Gaussian Classifier', 9 : 'QDA'}\n",
        "\n",
        "# Fitting the pipelines\n",
        "for pipes in pipelines:\n",
        "  pipes.fit(x_train, y_train)"
      ],
      "metadata": {
        "id": "S9ZpkNqJ9tf-"
      },
      "execution_count": 18,
      "outputs": []
    },
    {
      "cell_type": "code",
      "source": [
        "for i, model in enumerate(pipelines):\n",
        "  print(\"{} Test Accuracy : {}\".format(pipe_dict[i], model.score(x_test, y_test)))"
      ],
      "metadata": {
        "colab": {
          "base_uri": "https://localhost:8080/"
        },
        "id": "d36n5X--95zx",
        "outputId": "e9e10390-289a-4e28-8874-a23850c700e7"
      },
      "execution_count": 19,
      "outputs": [
        {
          "output_type": "stream",
          "name": "stdout",
          "text": [
            "Logistic Regression Test Accuracy : 0.8666666666666667\n",
            "Decision Tree Test Accuracy : 0.9111111111111111\n",
            "Random Forest Test Accuracy : 0.9111111111111111\n",
            "MLP Classifier Test Accuracy : 0.8888888888888888\n",
            "KNeighbours Classifier Test Accuracy : 0.8888888888888888\n",
            "Linear SVM Test Accuracy : 0.8888888888888888\n",
            "Gaussian Process Classifier Test Accuracy : 0.7333333333333333\n",
            "ADA Test Accuracy : 0.9111111111111111\n",
            "Naive Bayes Gaussian Classifier Test Accuracy : 0.9111111111111111\n",
            "QDA Test Accuracy : 0.8666666666666667\n"
          ]
        }
      ]
    },
    {
      "cell_type": "code",
      "source": [
        "for i, model in enumerate(pipelines):\n",
        "  if model.score(x_test, y_test) > best_accuracy:\n",
        "    best_accuracy = model.score(x_test, y_test)\n",
        "    best_classifier = i\n",
        "    best_pipeline = model\n",
        "\n",
        "print(\"Classifier with best accuracy among all  : {}\". format(pipe_dict[best_classifier]))"
      ],
      "metadata": {
        "colab": {
          "base_uri": "https://localhost:8080/"
        },
        "id": "AvnnNj0V-6lH",
        "outputId": "a1875f2b-e0bf-43cc-93b3-0cd414b88fb9"
      },
      "execution_count": 20,
      "outputs": [
        {
          "output_type": "stream",
          "name": "stdout",
          "text": [
            "Classifier with best accuracy among all  : Decision Tree\n"
          ]
        }
      ]
    },
    {
      "cell_type": "code",
      "source": [
        ""
      ],
      "metadata": {
        "id": "tAz2Y_-MMNpw"
      },
      "execution_count": 20,
      "outputs": []
    }
  ]
}